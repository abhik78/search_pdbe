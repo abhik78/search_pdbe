{
 "cells": [
  {
   "cell_type": "code",
   "execution_count": 76,
   "metadata": {},
   "outputs": [],
   "source": [
    "import json\n",
    "import requests\n",
    "import pandas as pd\n",
    "import scipy\n",
    "from functools import reduce\n",
    "import matplotlib.pyplot as plt\n",
    "import numpy as np\n",
    "from matplotlib import rc\n",
    "\n",
    "%matplotlib inline"
   ]
  },
  {
   "cell_type": "code",
   "execution_count": 77,
   "metadata": {},
   "outputs": [],
   "source": [
    "SEARCH_URL = 'http://www.ebi.ac.uk/pdbe/search/pdb/select?q='\n",
    "SEARCH_OPTIONS = '&wt=json&rows=100000'"
   ]
  },
  {
   "cell_type": "code",
   "execution_count": 78,
   "metadata": {},
   "outputs": [],
   "source": [
    "def url_response(url):\n",
    "    \"\"\"\n",
    "    Getting JSON response from URL\n",
    "    :param url: String\n",
    "    :return: JSON\n",
    "    \"\"\"\n",
    "    r = requests.get(url=url)\n",
    "    # Status code 200 means 'OK'\n",
    "    if r.status_code == 200:\n",
    "        json_result = r.json()\n",
    "        return json_result\n",
    "    else:\n",
    "        print(r.status_code, r.reason)\n",
    "        return None\n",
    "\n",
    "def run_search(pdbe_search_term):\n",
    "    \"\"\"\n",
    "    Running search with terms, for example \n",
    "    organism_synonyms:\"Plasmodium\"\n",
    "    \n",
    "    Check pdbe search api documentation for more detials\n",
    "    :param pdbe_search_term: String\n",
    "    :return: JSON\n",
    "    \"\"\"\n",
    "    # This constructs the complete query URL\n",
    "    full_query = SEARCH_URL + pdbe_search_term + SEARCH_OPTIONS\n",
    "\n",
    "    response = url_response(full_query)\n",
    "    if 'response' in response.keys() and 'docs' in response['response']:\n",
    "        return response['response']['docs']\n",
    "    else:\n",
    "        return None"
   ]
  },
  {
   "cell_type": "code",
   "execution_count": 120,
   "metadata": {},
   "outputs": [],
   "source": [
    "def create_entry_list(year):\n",
    "    search_terms_release_year = 'release_year:{}'.format(year)\n",
    "    entries_released_year = run_search(search_terms_release_year)\n",
    "    xray_list = []\n",
    "    \n",
    "    xray_list = [entry['pdb_id'] for entry in entries_released_year if \"X-ray diffraction\" \n",
    "                 in entry['q_experimental_method']]\n",
    "    \n",
    "    return len(xray_list)\n",
    "    \n",
    "    \n",
    "    "
   ]
  },
  {
   "cell_type": "code",
   "execution_count": 136,
   "metadata": {},
   "outputs": [
    {
     "name": "stdout",
     "output_type": "stream",
     "text": [
      "[14, 29, 5, 14, 9, 17, 37, 44, 28, 27, 18, 27, 64, 88, 212, 206, 215, 751, 1421, 956, 1403, 1626, 2353, 2667]\n"
     ]
    }
   ],
   "source": [
    "list_of_entry_year = []\n",
    "year_range = range(1976, 2000, 1)\n",
    "\n",
    "list_of_entry_year = [create_entry_list(years) for years in year_range]\n",
    "   \n",
    "\n",
    "print(list_of_entry_year)"
   ]
  },
  {
   "cell_type": "code",
   "execution_count": 137,
   "metadata": {},
   "outputs": [],
   "source": [
    "cumul_list = np.cumsum(list_of_entry_year)"
   ]
  },
  {
   "cell_type": "code",
   "execution_count": 138,
   "metadata": {},
   "outputs": [
    {
     "name": "stdout",
     "output_type": "stream",
     "text": [
      "[   14    43    48    62    71    88   125   169   197   224   242   269\n",
      "   333   421   633   839  1054  1805  3226  4182  5585  7211  9564 12231]\n"
     ]
    }
   ],
   "source": [
    "print(cumul_list)"
   ]
  },
  {
   "cell_type": "code",
   "execution_count": 139,
   "metadata": {},
   "outputs": [
    {
     "name": "stdout",
     "output_type": "stream",
     "text": [
      "[1976, 1977, 1978, 1979, 1980, 1981, 1982, 1983, 1984, 1985, 1986, 1987, 1988, 1989, 1990, 1991, 1992, 1993, 1994, 1995, 1996, 1997, 1998, 1999]\n"
     ]
    }
   ],
   "source": [
    "number_of_years = [*year_range]\n",
    "print(number_of_years)"
   ]
  },
  {
   "cell_type": "code",
   "execution_count": null,
   "metadata": {},
   "outputs": [],
   "source": []
  },
  {
   "cell_type": "code",
   "execution_count": 143,
   "metadata": {},
   "outputs": [
    {
     "data": {
      "text/plain": [
       "<BarContainer object of 24 artists>"
      ]
     },
     "execution_count": 143,
     "metadata": {},
     "output_type": "execute_result"
    },
    {
     "data": {
      "image/png": "[encoded data removed]",
      "text/plain": [
       "<Figure size 1440x720 with 1 Axes>"
      ]
     },
     "metadata": {
      "needs_background": "light"
     },
     "output_type": "display_data"
    }
   ],
   "source": [
    "plt.figure(figsize=(20,10))\n",
    "plt.bar(number_of_years, cumul_list, color='#7f6d5f', edgecolor='white', width=1)\n",
    "plt.bar(number_of_years, list_of_entry_year, color='#557f2d', edgecolor='white', width=1)#number of entries released per year\n"
   ]
  },
  {
   "cell_type": "code",
   "execution_count": null,
   "metadata": {},
   "outputs": [],
   "source": []
  }
 ],
 "metadata": {
  "kernelspec": {
   "display_name": "Python 3",
   "language": "python",
   "name": "python3"
  },
  "language_info": {
   "codemirror_mode": {
    "name": "ipython",
    "version": 3
   },
   "file_extension": ".py",
   "mimetype": "text/x-python",
   "name": "python",
   "nbconvert_exporter": "python",
   "pygments_lexer": "ipython3",
   "version": "3.7.1"
  }
 },
 "nbformat": 4,
 "nbformat_minor": 2
}
