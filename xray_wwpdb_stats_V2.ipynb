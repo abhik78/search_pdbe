{
 "cells": [
  {
   "cell_type": "code",
   "execution_count": 1,
   "metadata": {},
   "outputs": [],
   "source": [
    "import json\n",
    "import requests\n",
    "import pandas as pd\n",
    "import scipy\n",
    "from functools import reduce\n",
    "import matplotlib.pyplot as plt\n",
    "import numpy as np\n",
    "from matplotlib import rc\n",
    "\n",
    "%matplotlib inline"
   ]
  },
  {
   "cell_type": "code",
   "execution_count": 2,
   "metadata": {},
   "outputs": [],
   "source": [
    "SEARCH_URL = 'http://www.ebi.ac.uk/pdbe/search/pdb/select?q='\n",
    "SEARCH_OPTIONS = '&wt=json&rows=100000'"
   ]
  },
  {
   "cell_type": "code",
   "execution_count": 3,
   "metadata": {},
   "outputs": [],
   "source": [
    "def url_response(url):\n",
    "    \"\"\"\n",
    "    Getting JSON response from URL\n",
    "    :param url: String\n",
    "    :return: JSON\n",
    "    \"\"\"\n",
    "    r = requests.get(url=url)\n",
    "    # Status code 200 means 'OK'\n",
    "    if r.status_code == 200:\n",
    "        json_result = r.json()\n",
    "        return json_result\n",
    "    else:\n",
    "        print(r.status_code, r.reason)\n",
    "        return None\n",
    "\n",
    "def run_search(pdbe_search_term):\n",
    "    \"\"\"\n",
    "    Running search with terms, for example \n",
    "    organism_synonyms:\"Plasmodium\"\n",
    "    \n",
    "    Check pdbe search api documentation for more detials\n",
    "    :param pdbe_search_term: String\n",
    "    :return: JSON\n",
    "    \"\"\"\n",
    "    # This constructs the complete query URL\n",
    "    full_query = SEARCH_URL + pdbe_search_term + SEARCH_OPTIONS\n",
    "\n",
    "    response = url_response(full_query)\n",
    "    if 'response' in response.keys() and 'docs' in response['response']:\n",
    "        return response['response']['docs']\n",
    "    else:\n",
    "        return None"
   ]
  },
  {
   "cell_type": "code",
   "execution_count": 68,
   "metadata": {},
   "outputs": [
    {
     "name": "stdout",
     "output_type": "stream",
     "text": [
      "[1976, 1977, 1978, 1979, 1980, 1981, 1982, 1983, 1984, 1985, 1986, 1987, 1988, 1989, 1990, 1991, 1992, 1993, 1994, 1995, 1996, 1997, 1998, 1999, 2000, 2001, 2002, 2003, 2004, 2005, 2006, 2007, 2008, 2009, 2010, 2011, 2012, 2013, 2014, 2015, 2016, 2017, 2018, 2019]\n"
     ]
    }
   ],
   "source": [
    "list_of_entry_year = []\n",
    "year_range = range(1976, 2020, 1)\n",
    "\n",
    "   \n",
    "number_of_years = [*year_range]\n",
    "print(number_of_years)\n"
   ]
  },
  {
   "cell_type": "code",
   "execution_count": 69,
   "metadata": {},
   "outputs": [
    {
     "name": "stdout",
     "output_type": "stream",
     "text": [
      "56.0211021900177\n"
     ]
    }
   ],
   "source": [
    "import time\n",
    "start = time.time()\n",
    "method_search_term = 'experimental_method:\"X-ray diffraction\"&fl=pdb_id,release_year,revision_year, status, q_experimental_method'\n",
    "result = run_search(method_search_term)\n",
    "end = time.time()\n",
    "print(end-start)"
   ]
  },
  {
   "cell_type": "code",
   "execution_count": 70,
   "metadata": {},
   "outputs": [],
   "source": [
    "number_of_entry_per_year = []\n",
    "\n",
    "for year in number_of_years:\n",
    "    list_of_entry_per_year = []\n",
    "\n",
    "    list_of_entry_per_year = [doc['pdb_id'] for doc in result ]\n",
    "    for doc in result:\n",
    "        if doc['release_year'] == year and doc['status'] == 'REL':\n",
    "\n",
    "            list_of_entry_per_year.append((doc['pdb_id']))\n",
    "            \n",
    "    number_of_entry_per_year.append(len(list_of_entry_per_year))"
   ]
  },
  {
   "cell_type": "code",
   "execution_count": 71,
   "metadata": {},
   "outputs": [
    {
     "name": "stdout",
     "output_type": "stream",
     "text": [
      "[6, 20, 3, 8, 5, 3, 17, 23, 12, 15, 9, 4, 22, 37, 94, 105, 115, 343, 679, 468, 661, 774, 1101, 1278, 1383, 1661, 1785, 2390, 2871, 3048, 3362, 3958, 4335, 4331, 4624, 4823, 5282, 5974, 11023, 7878, 9007, 7406, 7594, 1463]\n"
     ]
    }
   ],
   "source": [
    "\n",
    "print(number_of_entry_per_year)"
   ]
  },
  {
   "cell_type": "code",
   "execution_count": 72,
   "metadata": {},
   "outputs": [],
   "source": [
    "cumul_list = np.cumsum(number_of_entry_per_year)"
   ]
  },
  {
   "cell_type": "code",
   "execution_count": 73,
   "metadata": {},
   "outputs": [
    {
     "name": "stdout",
     "output_type": "stream",
     "text": [
      "[     6     26     29     37     42     45     62     85     97    112\n",
      "    121    125    147    184    278    383    498    841   1520   1988\n",
      "   2649   3423   4524   5802   7185   8846  10631  13021  15892  18940\n",
      "  22302  26260  30595  34926  39550  44373  49655  55629  66652  74530\n",
      "  83537  90943  98537 100000]\n"
     ]
    }
   ],
   "source": [
    "print(cumul_list)"
   ]
  },
  {
   "cell_type": "code",
   "execution_count": 74,
   "metadata": {},
   "outputs": [
    {
     "data": {
      "text/plain": [
       "<BarContainer object of 44 artists>"
      ]
     },
     "execution_count": 74,
     "metadata": {},
     "output_type": "execute_result"
    },
    {
     "data": {
      "image/png": "[encoded data removed]",
      "text/plain": [
       "<Figure size 1440x720 with 1 Axes>"
      ]
     },
     "metadata": {
      "needs_background": "light"
     },
     "output_type": "display_data"
    }
   ],
   "source": [
    "plt.figure(figsize=(20,10))\n",
    "plt.bar(number_of_years, cumul_list, color='#7f6d5f', edgecolor='white', width=1)\n",
    "plt.bar(number_of_years, number_of_entry_per_year, color='#557f2d', edgecolor='white', width=1)#number of entries released per year\n"
   ]
  },
  {
   "cell_type": "code",
   "execution_count": null,
   "metadata": {},
   "outputs": [],
   "source": []
  }
 ],
 "metadata": {
  "kernelspec": {
   "display_name": "Python 3",
   "language": "python",
   "name": "python3"
  },
  "language_info": {
   "codemirror_mode": {
    "name": "ipython",
    "version": 3
   },
   "file_extension": ".py",
   "mimetype": "text/x-python",
   "name": "python",
   "nbconvert_exporter": "python",
   "pygments_lexer": "ipython3",
   "version": "3.7.1"
  }
 },
 "nbformat": 4,
 "nbformat_minor": 2
}
