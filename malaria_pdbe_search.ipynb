{
 "cells": [
  {
   "cell_type": "markdown",
   "metadata": {},
   "source": [
    "# PDBe Tutorial - Malaria Case Study\n",
    "\n",
    "This notenook is a tutorial to demonstarte how a researcher can use PDBe REST-API service (www.pdbe.org/api) to explore the information available in PDBe (www.pdbe.org). \n"
   ]
  },
  {
   "cell_type": "markdown",
   "metadata": {},
   "source": [
    "# Objective of this tutorial\n",
    "\n",
    "This tutorial will show how to find out all PDB entries from a species (in this case from Plasmodium falciparum) and then how to filter the result to find out desired information. In this case, we are interested to find out all the hetgroups (that have molecular weight between 100-500) found in PDB entries from Plasmodium falciparum within a certain resolution and how many of those hetcodes are present in Drugbank and CCDC. "
   ]
  },
  {
   "cell_type": "markdown",
   "metadata": {},
   "source": [
    "## 1) Setup\n",
    "\n",
    "### (Optional) Installing dependencies\n",
    "\n",
    "You may need to install some of the libraries that this tutorial use. The easiest way is to type in:\n",
    "\n",
    "pip3 install scipy\n",
    "\n",
    "pip3 install pandas\n",
    "\n",
    "pip3 install matplotlib\n",
    "\n",
    "pip3 install requests\n",
    "\n",
    "### Importing dependencies\n",
    "\n",
    "It is good practise to do all imports at the beginning of the script"
   ]
  },
  {
   "cell_type": "code",
   "execution_count": 86,
   "metadata": {},
   "outputs": [],
   "source": [
    "import json\n",
    "import requests\n",
    "import pandas as pd\n",
    "import scipy\n",
    "from functools import reduce\n",
    "import matplotlib.pyplot as plt\n",
    "\n",
    "\n",
    "%matplotlib inline"
   ]
  },
  {
   "cell_type": "markdown",
   "metadata": {},
   "source": [
    "### Setting constants"
   ]
  },
  {
   "cell_type": "code",
   "execution_count": 87,
   "metadata": {},
   "outputs": [],
   "source": [
    "# constants\n",
    "SEARCH_URL = 'http://www.ebi.ac.uk/pdbe/search/pdb/select?q='\n",
    "SEARCH_OPTIONS = '&wt=json&rows=100000'"
   ]
  },
  {
   "cell_type": "markdown",
   "metadata": {},
   "source": [
    "### Helper functions\n",
    "\n",
    "These functions will be used to run the search queries"
   ]
  },
  {
   "cell_type": "code",
   "execution_count": 88,
   "metadata": {},
   "outputs": [],
   "source": [
    "def url_response(url):\n",
    "    \"\"\"\n",
    "    Getting JSON response from URL\n",
    "    :param url: String\n",
    "    :return: JSON\n",
    "    \"\"\"\n",
    "    r = requests.get(url=url)\n",
    "    # Status code 200 means 'OK'\n",
    "    if r.status_code == 200:\n",
    "        json_result = r.json()\n",
    "        return json_result\n",
    "    else:\n",
    "        print(r.status_code, r.reason)\n",
    "        return None\n",
    "\n",
    "def run_search(pdbe_search_term):\n",
    "    \"\"\"\n",
    "    Running search with terms, for example \n",
    "    organism_synonyms:\"Plasmodium\"\n",
    "    \n",
    "    Check pdbe search api documentation for more detials\n",
    "    :param pdbe_search_term: String\n",
    "    :return: JSON\n",
    "    \"\"\"\n",
    "    # This constructs the complete query URL\n",
    "    full_query = SEARCH_URL + pdbe_search_term + SEARCH_OPTIONS\n",
    "\n",
    "    response = url_response(full_query)\n",
    "    if 'response' in response.keys() and 'docs' in response['response']:\n",
    "        return response['response']['docs']\n",
    "    else:\n",
    "        return None"
   ]
  },
  {
   "cell_type": "markdown",
   "metadata": {},
   "source": [
    "## 2) Searching\n",
    "\n",
    "### Search for organism: Plasmodium"
   ]
  },
  {
   "cell_type": "code",
   "execution_count": 89,
   "metadata": {},
   "outputs": [],
   "source": [
    "# Set the search term\n",
    "search_terms_organism = 'organism_synonyms:\"Plasmodium\"'\n",
    "\n",
    "# Perform search\n",
    "results_organism = run_search(search_terms_organism)"
   ]
  },
  {
   "cell_type": "markdown",
   "metadata": {},
   "source": [
    "### Find out how many species are there where plasmodium as synonyms"
   ]
  },
  {
   "cell_type": "code",
   "execution_count": 90,
   "metadata": {},
   "outputs": [
    {
     "name": "stdout",
     "output_type": "stream",
     "text": [
      "total number of PDB entires 1302\n",
      "1302\n"
     ]
    }
   ],
   "source": [
    "organism_list = []\n",
    "all_organism_list = []\n",
    "list_all_plasmodium_pdb = []\n",
    "clean_all_organism_list = []\n",
    "for result in results_organism:\n",
    "    \n",
    "    organism = result['organism_scientific_name']\n",
    "    entry_id = result['pdb_id']\n",
    "    list_all_plasmodium_pdb.append(entry_id)\n",
    "    all_organism_list.append(organism)\n",
    "    only_plasmodium = [x for x in organism if 'Plasmodium' in x]\n",
    "    for b in only_plasmodium:\n",
    "        clean_all_organism_list.append(b)\n",
    "    \n",
    "    \n",
    "    if only_plasmodium not in organism_list:\n",
    "        organism_list.append(only_plasmodium)\n",
    "\n",
    "print('total number of PDB entires'+' '+str(len(list_all_plasmodium_pdb)))\n",
    "print(len(clean_all_organism_list))\n"
   ]
  },
  {
   "cell_type": "markdown",
   "metadata": {},
   "source": [
    "### Finally we can save our dataset as csv file "
   ]
  },
  {
   "cell_type": "code",
   "execution_count": 91,
   "metadata": {},
   "outputs": [
    {
     "data": {
      "text/html": [
       "<div>\n",
       "<style>\n",
       "    .dataframe thead tr:only-child th {\n",
       "        text-align: right;\n",
       "    }\n",
       "\n",
       "    .dataframe thead th {\n",
       "        text-align: left;\n",
       "    }\n",
       "\n",
       "    .dataframe tbody tr th {\n",
       "        vertical-align: top;\n",
       "    }\n",
       "</style>\n",
       "<table border=\"1\" class=\"dataframe\">\n",
       "  <thead>\n",
       "    <tr style=\"text-align: right;\">\n",
       "      <th></th>\n",
       "      <th>entry</th>\n",
       "      <th>organism</th>\n",
       "    </tr>\n",
       "  </thead>\n",
       "  <tbody>\n",
       "    <tr>\n",
       "      <th>0</th>\n",
       "      <td>5tpx</td>\n",
       "      <td>Plasmodium falciparum 3D7</td>\n",
       "    </tr>\n",
       "    <tr>\n",
       "      <th>1</th>\n",
       "      <td>3fr3</td>\n",
       "      <td>Plasmodium falciparum</td>\n",
       "    </tr>\n",
       "    <tr>\n",
       "      <th>2</th>\n",
       "      <td>2aqw</td>\n",
       "      <td>Plasmodium yoelii</td>\n",
       "    </tr>\n",
       "    <tr>\n",
       "      <th>3</th>\n",
       "      <td>4j4n</td>\n",
       "      <td>Plasmodium falciparum 3D7</td>\n",
       "    </tr>\n",
       "    <tr>\n",
       "      <th>4</th>\n",
       "      <td>1qs8</td>\n",
       "      <td>Plasmodium vivax</td>\n",
       "    </tr>\n",
       "  </tbody>\n",
       "</table>\n",
       "</div>"
      ],
      "text/plain": [
       "  entry                   organism\n",
       "0  5tpx  Plasmodium falciparum 3D7\n",
       "1  3fr3      Plasmodium falciparum\n",
       "2  2aqw          Plasmodium yoelii\n",
       "3  4j4n  Plasmodium falciparum 3D7\n",
       "4  1qs8           Plasmodium vivax"
      ]
     },
     "execution_count": 91,
     "metadata": {},
     "output_type": "execute_result"
    }
   ],
   "source": [
    "plasmodium_species_data = pd.DataFrame(list(zip(list_all_plasmodium_pdb, clean_all_organism_list)),\n",
    "              columns=['entry','organism'])\n",
    "plasmodium_species_data.head()"
   ]
  },
  {
   "cell_type": "code",
   "execution_count": 92,
   "metadata": {},
   "outputs": [
    {
     "data": {
      "text/plain": [
       "<matplotlib.axes._subplots.AxesSubplot at 0x7fe764277a50>"
      ]
     },
     "execution_count": 92,
     "metadata": {},
     "output_type": "execute_result"
    },
    {
     "data": {
      "image/png": "[encoded data removed]",
      "text/plain": [
       "<Figure size 432x288 with 1 Axes>"
      ]
     },
     "metadata": {},
     "output_type": "display_data"
    }
   ],
   "source": [
    "plasmodium_species_data['organism'].value_counts().plot(kind='bar')"
   ]
  },
  {
   "cell_type": "markdown",
   "metadata": {},
   "source": [
    "### We will work with only Plasmodium falciparum"
   ]
  },
  {
   "cell_type": "code",
   "execution_count": 93,
   "metadata": {},
   "outputs": [],
   "source": [
    "# Set search term\n",
    "search_terms_plasmodium = 'organism_scientific_name:\"Plasmodium%20falciparum\"'\n",
    "\n",
    "# Perform search\n",
    "results_plasmodium = run_search(search_terms_plasmodium)\n",
    "\n",
    "#print(results_plasmodium)#this is how the result docmument looks like"
   ]
  },
  {
   "cell_type": "markdown",
   "metadata": {},
   "source": [
    "### Now create several list with the kind of data we want to extract"
   ]
  },
  {
   "cell_type": "code",
   "execution_count": 94,
   "metadata": {},
   "outputs": [
    {
     "name": "stdout",
     "output_type": "stream",
     "text": [
      "total number of PDB entires 336\n",
      "43 entries have resolution less than 1.8A\n"
     ]
    }
   ],
   "source": [
    "pdb_list = []  # gives list of pdb entry\n",
    "high_res_pdb_list = [] #list of pdb entry with resolution <1.8A\n",
    "pfam_list = []\n",
    "comp_list = [] # list of all pdb hetcodes found \n",
    "comp_wt_list = []\n",
    "r_free_list = []\n",
    "molecule_name_list = [] # list of protein names\n",
    "resolution_list = []\n",
    "\n",
    "for pdbid in results_plasmodium:\n",
    "    pdb = pdbid['pdb_id']\n",
    "    pdb_list.append(pdb)\n",
    "    resolutionid = pdbid['pivot_resolution']\n",
    "    resolution_list.append(resolutionid)\n",
    "    molecule_names = pdbid['all_molecule_names']\n",
    "    molecule_name_list.append(molecule_names)\n",
    "    \n",
    "    \n",
    "    try:\n",
    "        rfree_entry = pdbid['r_free']\n",
    "        r_free_list.append(rfree_entry)\n",
    "    except:\n",
    "        pass\n",
    "  \n",
    "    \n",
    "    try:\n",
    "        pfam = pdbid['pfam_name']\n",
    "    except:\n",
    "        pass\n",
    "    if pfam not in pfam_list:\n",
    "        pfam_list.append(pfam)\n",
    "\n",
    "    \n",
    "    if resolutionid < 1.8:\n",
    "        high_res_pdb_list.append(pdb)\n",
    "    try:\n",
    "        comp = pdbid['compound_id']\n",
    "        comp_wt = pdbid['compound_weight']\n",
    "    except:\n",
    "        pass\n",
    "    \n",
    "    if comp not in comp_list:\n",
    "        comp_list.append(comp)\n",
    "    if comp_wt not in comp_wt_list:\n",
    "        comp_wt_list.append(comp_wt)\n",
    "list_of_unique_pfam = reduce(lambda x,y:x+y, pfam_list)\n",
    "list_of_comp = reduce(lambda x,y: x+y,comp_list)\n",
    "\n",
    "list_of_mol_names = reduce(lambda x,y: x+y,molecule_name_list)\n",
    "list_of_mol_wt_com = reduce(lambda x,y: x+y,comp_wt_list)\n",
    "                \n",
    "\n",
    "print('total number of PDB entires'+' '+str(len(pdb_list)))\n",
    "print(str(len(high_res_pdb_list))+' '+'entries have resolution less than 1.8A')\n"
   ]
  },
  {
   "cell_type": "code",
   "execution_count": 95,
   "metadata": {},
   "outputs": [],
   "source": [
    "resolution_df = pd.DataFrame({'res':resolution_list})\n",
    "resolution_df_corr = resolution_df[resolution_df['res'] < 10]# removes nmr entries that have resolution 1000 A as a space filler\n"
   ]
  },
  {
   "cell_type": "code",
   "execution_count": 96,
   "metadata": {},
   "outputs": [
    {
     "data": {
      "image/png": "[encoded data removed]",
      "text/plain": [
       "<Figure size 432x288 with 1 Axes>"
      ]
     },
     "metadata": {},
     "output_type": "display_data"
    }
   ],
   "source": [
    "res_box_plot = resolution_df_corr.boxplot(column =['res']) #shows distribution of resolution in all entries"
   ]
  },
  {
   "cell_type": "code",
   "execution_count": 97,
   "metadata": {},
   "outputs": [],
   "source": [
    "r_free_df = pd.DataFrame({'r_free':r_free_list})"
   ]
  },
  {
   "cell_type": "code",
   "execution_count": 98,
   "metadata": {},
   "outputs": [
    {
     "data": {
      "image/png": "[encoded data removed]",
      "text/plain": [
       "<Figure size 432x288 with 1 Axes>"
      ]
     },
     "metadata": {},
     "output_type": "display_data"
    }
   ],
   "source": [
    "r_free_distribution = r_free_df.plot.kde() # shows distribution of rfree in all pdb entires"
   ]
  },
  {
   "cell_type": "code",
   "execution_count": 99,
   "metadata": {},
   "outputs": [
    {
     "data": {
      "image/png": "[encoded data removed]",
      "text/plain": [
       "<Figure size 432x288 with 1 Axes>"
      ]
     },
     "metadata": {},
     "output_type": "display_data"
    }
   ],
   "source": [
    "mol_wt_df = pd.DataFrame({'mol_wt':list_of_mol_wt_com})\n",
    "mol_wt_box_plot = mol_wt_df.boxplot(column = ['mol_wt']) # distribution of molecular weight of all hetcodes found in these entrie"
   ]
  },
  {
   "cell_type": "code",
   "execution_count": 100,
   "metadata": {},
   "outputs": [],
   "source": [
    "mol_wt_100_500 = mol_wt_df[(mol_wt_df['mol_wt'] < 500) & (mol_wt_df['mol_wt'] > 100)]"
   ]
  },
  {
   "cell_type": "code",
   "execution_count": 101,
   "metadata": {},
   "outputs": [
    {
     "data": {
      "image/png": "[encoded data removed]",
      "text/plain": [
       "<Figure size 432x288 with 1 Axes>"
      ]
     },
     "metadata": {},
     "output_type": "display_data"
    }
   ],
   "source": [
    "mol_wt_100_500_boxplot = mol_wt_100_500.boxplot(column = ['mol_wt']) # distribution of hetcodes with mol.wt. between 100 and 500"
   ]
  },
  {
   "cell_type": "code",
   "execution_count": 102,
   "metadata": {},
   "outputs": [],
   "source": [
    "mol_name_df = pd.DataFrame({'mol_name':list_of_mol_names})"
   ]
  },
  {
   "cell_type": "code",
   "execution_count": 103,
   "metadata": {},
   "outputs": [
    {
     "data": {
      "text/plain": [
       "mol_name\n",
       "1-cys peroxiredoxin                                                       3\n",
       "1-deoxy-D-xylulose 5-phosphate reductoisomerase, apicoplastic             6\n",
       "1-deoxyxylulose-5-phosphate reductoisomerase                              3\n",
       "101 kDa malaria antigen                                                   2\n",
       "111 kDa antigen                                                           1\n",
       "25 kDa ookinete surface antigen                                           4\n",
       "41 kDa antigen                                                            3\n",
       "45 kDa merozoite surface antigen                                          1\n",
       "6-pyruvoyltetrahydropterin synthase                                       2\n",
       "ADP-ribosylation factor 1                                                 2\n",
       "AMPSase                                                                   1\n",
       "ATP-dependent Clp protease proteolytic subunit                            2\n",
       "Acidic basic repeat antigen                                               1\n",
       "Actin I                                                                   1\n",
       "Actin-1                                                                   2\n",
       "Acyl carrier protein                                                      4\n",
       "Acyl-CoA binding protein                                                  2\n",
       "AdSS                                                                      1\n",
       "Adenylate kinase 2                                                        2\n",
       "Adenylosuccinate synthetase                                               2\n",
       "Apical membrane antigen 1                                                 2\n",
       "Apical merozoite antigen-1                                                4\n",
       "Aquaglyceroporin                                                          2\n",
       "Aspartate transcarbamoylase                                               4\n",
       "Aspartic hemoglobinase I                                                  2\n",
       "Aspartic hemoglobinase II                                                20\n",
       "Beta-hydroxyacyl-ACP dehydratase                                         16\n",
       "Bifunctional dihydrofolate reductase-thymidylate synthase                34\n",
       "CS                                                                        5\n",
       "Calcium-dependent protein kinase 3                                        2\n",
       "                                                                         ..\n",
       "Single-stranded DNA-binding protein                                       2\n",
       "Subtilase                                                                 2\n",
       "Subtilisin-like serine protease                                           8\n",
       "TIM                                                                      31\n",
       "TRSP                                                                      2\n",
       "Thioredoxin reductase                                                     2\n",
       "Thrombospondin related anonymous protein                                  4\n",
       "Thrombospondin-related adhesive protein                                   2\n",
       "Thrombospondin-related anonymous protein                                  2\n",
       "Thymidylate synthase                                                     10\n",
       "Triose-phosphate isomerase                                               31\n",
       "Triosephosphate isomerase                                                62\n",
       "TrxR                                                                      1\n",
       "Ubiquitin carboxyl-terminal hydrolase isozyme L3                          4\n",
       "Uncharacterized protein                                                   3\n",
       "UpsB-Q-1 DNA (34-MER)                                                     1\n",
       "UpsB-Q-1, DNA (34-MER)                                                    1\n",
       "Variant-specific surface protein                                          2\n",
       "cGMP-dependent protein kinase                                             8\n",
       "hypothetical protein                                                      1\n",
       "p101                                                                      1\n",
       "p126                                                                      1\n",
       "p195                                                                      3\n",
       "pfARF1                                                                    1\n",
       "pfCSP peptide 20: ASN-PRO-ASP-PRO-ASN-ALA-ASN-PRO-ASN-VAL-ASP             1\n",
       "pfCSP peptide 21: ASN-PRO-ASP-PRO-ASN-ALA-ASN-PRO-ASN-VAL-ASP-PRO-ASN     1\n",
       "pfCSP peptide 25: ASN-VAL-ASP-PRO-ASN-ALA-ASN-PRO-ASN-VAL-ASP             1\n",
       "pfCSP peptide 25: ASN-VAL-ASP-PRO-ASN-ALA-ASN-PRO-ASN-VAL-ASP-PRO-ASN     1\n",
       "pfCSP peptide 29: ALA-ASN-PRO-ASN-ALA-ASN-PRO-ASN-ALA-ASN-PRO-ASN-ALA     1\n",
       "rRNA adenine N(6)-methyltransferase                                       2\n",
       "Length: 199, dtype: int64"
      ]
     },
     "execution_count": 103,
     "metadata": {},
     "output_type": "execute_result"
    }
   ],
   "source": [
    "mol_name_df.groupby('mol_name').size() # count of protein names "
   ]
  },
  {
   "cell_type": "code",
   "execution_count": 104,
   "metadata": {},
   "outputs": [
    {
     "name": "stdout",
     "output_type": "stream",
     "text": [
      "[u'GST_C_3', u'GST_N', u'TIM', u'PP-binding', u'cNMP_binding', u'adh_short', u'adh_short_C2', u'DHFR_1', u'Thymidylat_synt', u'RrnaAD', u'Methyltransf_11', u'Methyltransf_12', u'MTS', u'Methyltransf_31', u'Methyltransf_PK', u'Methyltransf_23', u'Methyltransf_25', u'Methyltransf_2', u'CheR', u'Ubie_methyltran', u'CMAS', u'EF-hand_5', u'Pyr_redox_2', u'Pyr_redox_3', u'Pyr_redox', u'Pyr_redox_dim', u'FAD_binding_2', u'AMA-1', u'Asp', u'Gp_dh_N', u'Gp_dh_C', u'Pribosyltran', u'Cofilin_ADF', u'FabA', u'TSP_1', u'OMPdecase', u'PTPS', u'DXP_reductoisom', u'DXPR_C', u'DXP_redisom_C', u'Ldh_1_C', u'Ldh_1_N', u'AAA', u'SSB', u'PFEMP', u'EF-hand_7', u'NAD_binding_1', u'Redoxin', u'DHFR_1', u'Thymidylat_synt', u'Pkinase', u'SNO', u'DHO_dh', u'Duffy_binding', u'CTP_transf_like', u'BTB_2', u'Kelch_1', u'EF-hand_1', u'Pkinase', u'EF-hand_7', u'His_Phos_1', u'VWA', u'Pro_isomerase', u'Peptidase_C1', u'Pyr_redox_2', u'Pyr_redox_3', u'GIDA', u'NAD_binding_8', u'Pyr_redox', u'Pyr_redox_dim', u'FAD_oxidored', u'FAD_binding_2', u'PNP_UDP_1', u'DUF866', u'Methyltransf_11', u'Methyltransf_31', u'Methyltransf_25', u'Methyltransf_4', u'Glycolytic', u'MIP', u'Actin', u'Profilin', u'EBA-175_VI', u'Peptidase_C12', u'DUF3458_C', u'Peptidase_M1', u'DUF3458', u'EGF_MSP1_1', u'Arf', u'ADK', u'ADK_lid', u'Plasmod_Pvs28', u'Adenylsucc_synt', u'ACBP', u'Pep_deformylase', u'AHSA1', u'Aha1_N', u'Pkinase', u'cNMP_binding', u'PGK', u'PFEMP', u'NTS', u'Duffy_binding', u'ELFV_dehydrog', u'ELFV_dehydrog_N', u'LYTB', u'Proteasome_A_N', u'Proteasome', u'Proteasome', u'OTCace', u'OTCace_N', u'CLP_protease', u'Roc', u'Ras']\n"
     ]
    }
   ],
   "source": [
    "print(list_of_unique_pfam) # all pfam "
   ]
  },
  {
   "cell_type": "markdown",
   "metadata": {},
   "source": [
    "### Finally we can save our dataset as csv file "
   ]
  },
  {
   "cell_type": "code",
   "execution_count": 105,
   "metadata": {},
   "outputs": [],
   "source": [
    "plasmodium_data = pd.DataFrame(list(zip(pdb_list, resolution_list, list_of_mol_names)),\n",
    "              columns=['entry','resolution', 'protein'])"
   ]
  },
  {
   "cell_type": "code",
   "execution_count": 106,
   "metadata": {},
   "outputs": [
    {
     "data": {
      "text/html": [
       "<div>\n",
       "<style>\n",
       "    .dataframe thead tr:only-child th {\n",
       "        text-align: right;\n",
       "    }\n",
       "\n",
       "    .dataframe thead th {\n",
       "        text-align: left;\n",
       "    }\n",
       "\n",
       "    .dataframe tbody tr th {\n",
       "        vertical-align: top;\n",
       "    }\n",
       "</style>\n",
       "<table border=\"1\" class=\"dataframe\">\n",
       "  <thead>\n",
       "    <tr style=\"text-align: right;\">\n",
       "      <th></th>\n",
       "      <th>entry</th>\n",
       "      <th>resolution</th>\n",
       "      <th>protein</th>\n",
       "    </tr>\n",
       "  </thead>\n",
       "  <tbody>\n",
       "    <tr>\n",
       "      <th>0</th>\n",
       "      <td>3fr3</td>\n",
       "      <td>1.900</td>\n",
       "      <td>Glutathione S-transferase</td>\n",
       "    </tr>\n",
       "    <tr>\n",
       "      <th>1</th>\n",
       "      <td>4z0s</td>\n",
       "      <td>2.390</td>\n",
       "      <td>PfGST</td>\n",
       "    </tr>\n",
       "    <tr>\n",
       "      <th>2</th>\n",
       "      <td>4zz9</td>\n",
       "      <td>1.810</td>\n",
       "      <td>Glutathione S-transferase</td>\n",
       "    </tr>\n",
       "    <tr>\n",
       "      <th>3</th>\n",
       "      <td>3gzl</td>\n",
       "      <td>2.550</td>\n",
       "      <td>Triosephosphate isomerase</td>\n",
       "    </tr>\n",
       "    <tr>\n",
       "      <th>4</th>\n",
       "      <td>4off</td>\n",
       "      <td>1.888</td>\n",
       "      <td>Triose-phosphate isomerase</td>\n",
       "    </tr>\n",
       "  </tbody>\n",
       "</table>\n",
       "</div>"
      ],
      "text/plain": [
       "  entry  resolution                     protein\n",
       "0  3fr3       1.900   Glutathione S-transferase\n",
       "1  4z0s       2.390                       PfGST\n",
       "2  4zz9       1.810   Glutathione S-transferase\n",
       "3  3gzl       2.550   Triosephosphate isomerase\n",
       "4  4off       1.888  Triose-phosphate isomerase"
      ]
     },
     "execution_count": 106,
     "metadata": {},
     "output_type": "execute_result"
    }
   ],
   "source": [
    "plasmodium_data.head() # more than one protein can be present in one entry , so protein column will be a list "
   ]
  },
  {
   "cell_type": "code",
   "execution_count": 107,
   "metadata": {},
   "outputs": [],
   "source": [
    "plasmodium_data.to_csv('plasmodium_data.csv')#writes out csv file"
   ]
  },
  {
   "cell_type": "markdown",
   "metadata": {},
   "source": [
    "# Example of use of PDBe REST API services to extract sevral information"
   ]
  },
  {
   "cell_type": "markdown",
   "metadata": {},
   "source": [
    "we will use some of the lists created before to demonstarte"
   ]
  },
  {
   "cell_type": "code",
   "execution_count": 108,
   "metadata": {},
   "outputs": [],
   "source": [
    "import json\n",
    "import requests\n",
    "import pandas as pd\n",
    "import csv\n",
    "import re\n",
    "import urllib\n",
    "# api urls\n",
    "\n",
    "base_url = \"https://www.ebi.ac.uk/pdbe/\"\n",
    "\n",
    "api_base = base_url + \"api/\"\n",
    "\n",
    "compound_mapping_url = api_base + 'pdb/compound/mappings/'\n"
   ]
  },
  {
   "cell_type": "code",
   "execution_count": 109,
   "metadata": {},
   "outputs": [],
   "source": [
    "def make_request(url, mode, het_id):\n",
    "    \"\"\"\n",
    "    This function can make GET and POST requests to\n",
    "    the PDBe API\n",
    "\n",
    "    :param url: String,\n",
    "    :param mode: String,\n",
    "    :param pdb_id: String\n",
    "    :return: JSON or None\n",
    "    \"\"\"\n",
    "    if mode == \"get\":\n",
    "        response = requests.get(url=url + het_id)\n",
    "    elif mode == \"post\":\n",
    "        response = requests.post(url, data=het_id)\n",
    "\n",
    "    if response.status_code == 200:\n",
    "        return response.json()\n",
    "    else:\n",
    "        print(\"[No data retrieved - %s] %s\" % (response.status_code, pdb_id))\n",
    "\n",
    "    return None"
   ]
  },
  {
   "cell_type": "code",
   "execution_count": 69,
   "metadata": {},
   "outputs": [
    {
     "name": "stdout",
     "output_type": "stream",
     "text": [
      "[u'GDS', u'EDO', u'EDO', u'NA', u'PNS', u'SO4', u'TCL', u'NAD', u'PCA', u'NH4', u'FB4', u'NAD', u'NDP', u'CP6', u'UMP', u'PCA', u'SO4', u'7PC', u'NAD', u'PC', u'SO4', u'CA', u'FAD', u'NDP', u'1CY', u'PO4', u'R36', u'NAD', u'EDO', u'SO4', u'GOL', u'IRP', u'POP', u'MG', u'G2H', u'EH5', u'SO4', u'CSO', u'IPA', u'GOL', u'HMZ', u'NA', u'SAH', u'OPE', u'BIO', u'MSE', u'ZN', u'CA', u'NI', u'U5P', u'NDP', u'MN', u'MES', u'SO4', u'GOL', u'JP1', u'NAD', u'3PG', u'A1T', u'EDO', u'MES', u'CA', u'NA', u'PO3', u'3PY', u'2PG', u'CLQ', u'AES', u'GOL', u'NAD', u'NAI', u'GBD', u'48Q', u'GOL', u'NAI', u'K91', u'PO4', u'GOL', u'3PG', u'GOL', u'PGA', u'OXL', u'GOL', u'NAD', u'GSH', u'CL', u'EDO', u'PG5', u'ACT', u'K95', u'NA', u'PG4', u'CL', u'PG4', u'PEG', u'CA', u'ACT', u'GOL', u'A2P', u'FAD', u'PCA', u'NH4', u'IPA', u'NA', u'5FE', u'OCS', u'NDP', u'WRA', u'UMP', u'JPJ', u'NAD', u'SFG', u'PO4', u'PG4', u'XBL', u'FMN', u'ORO', u'SAM', u'PO4', u'CA', u'1PE', u'MES', u'NH2', u'PCA', u'ACE', u'C5P', u'NDP', u'KA5', u'UMP', u'TN3', u'NAD', u'HMD', u'UNX', u'IVA', u'STA', u'K51', u'SCN', u'MG', u'TCT', u'NAD', u'PTY', u'MAN', u'NAG', u'NAI', u'OXM', u'NAP', u'DHF', u'UMP', u'NH2', u'TIT', u'FT3', u'NAD', u'P2F', u'GTX', u'KM1', u'GOL', u'EDO', u'SO4', u'CL', u'DAL', u'ABA', u'SAR', u'MLE', u'MVA', u'BMT', u'ANP', u'E64', u'GOL', u'TN2', u'NAD', u'EDO', u'PGA', u'JPN', u'NAD', u'SO4', u'ACE', u'AR7', u'TN5', u'NAD', u'NAI', u'GAG', u'GOL', u'N2P', u'EOH', u'SO4', u'PCG', u'SO4', u'CL', u'EDO', u'IM5', u'PO4', u'R37', u'ACT', u'GOL', u'MSE', u'4KG', u'PVB', u'BOG', u'GOL', u'CA', u'ATP', u'IH4', u'FMN', u'SO4', u'ORO', u'A26', u'N8E', u'RJ6', u'NDP', u'UMP', u'UNX', u'GOL', u'ZID', u'5FP', u'SAM', u'MSE', u'PO4', u'GVE', u'CL', u'PO4', u'AES', u'NAD', u'EDO', u'SO4', u'ACT', u'CA', u'CL', u'DMS', u'BES', u'MG', u'ZN', u'GOL', u'BIK', u'NH2', u'PCA', u'ACE', u'GOL', u'ANP', u'MN', u'CAC', u'DTL', u'GTX', u'P33', u'FMT', u'SO4', u'MG', u'GDP', u'RB2', u'GOL', u'JBW', u'FMN', u'ORO', u'PO4', u'SAH', u'CQA', u'PEG', u'XMP', u'PO4', u'ID6', u'FMN', u'ORO', u'NAD', u'TCC', u'NAI', u'GOL', u'2OE', u'0HG', u'NH2', u'ACE', u'NDP', u'1CY', u'UMP', u'ADP', u'MG', u'AMP', u'ATP', u'HDA', u'IMO', u'MG', u'GDP', u'NO3', u'COA', u'NI', u'MYR', u'MAN', u'PLM', u'GOL', u'NAG', u'TRS', u'BIK', u'NAD', u'BEN', u'DHL', u'MG', u'MSE', u'GDP', u'NAI', u'OXM', u'GOL', u'G3H', u'SO4', u'5GP', u'CO', u'MSE', u'TRN', u'OXQ', u'GOL', u'NAD', u'6CW', u'SAH', u'PC', u'OPE', u'NDD', u'MPD', u'NDP', u'CA', u'MG', u'F98', u'SIA', u'EDO', u'CA', u'MPD', u'BCN', u'OMP', u'NDP', u'CA', u'MG', u'FOM', u'NDP', u'RJ1', u'UMP', u'006', u'GOL', u'EDO', u'SO4', u'NA', u'SO4', u'GOL', u'NA', u'FT1', u'NAD', u'49W', u'GOL', u'AP0', u'EDO', u'SO4', u'GOL', u'K', u'IM5', u'PO4', u'2OK', u'EDO', u'PEG', u'SO4', u'MSE', u'AMP', u'GOL', u'SO4', u'MG', u'PEG', u'GOL', u'BME', u'MLI', u'PNS', u'FT2', u'NAD', u'KM0', u'GOL', u'FT0', u'NAD', u'PEG', u'PO4', u'CL', u'GOL', u'S21', u'BIH', u'C1P', u'SO4', u'8PC', u'NAD', u'EDO', u'SO4', u'MG', u'CL', u'SO4', u'F3S', u'NA', u'GOL', u'A2T', u'CD', u'GOL', u'7F1', u'IVS', u'PEG', u'SO4', u'CSO', u'MLI', u'D48', u'NA', u'DMS', u'GOL', u'SO4', u'CAC', u'CL', u'PCG', u'INR', u'GDP', u'CL']\n"
     ]
    }
   ],
   "source": [
    "print(list_of_comp)"
   ]
  },
  {
   "cell_type": "code",
   "execution_count": 242,
   "metadata": {},
   "outputs": [],
   "source": [
    "test_list = ['TDP', 'TP7', 'GOL']\n",
    "chembl_id_list = []\n",
    "csd_id_list = []\n",
    "chebi_id_list = []\n",
    "drugbank_id_list = []\n",
    "cofactor_list = []\n",
    "\n",
    "for x in test_list:\n",
    "    \n",
    "\n",
    "    \n",
    "    \n",
    "    \n",
    "    api_response = make_request(compound_mapping_url, \"get\", x)\n",
    "    #print(api_response)\n",
    "    \n",
    "    chembl_id_list.append(api_response[x][0].get(\"chembl_id\"))\n",
    "    csd_id_list.append(api_response[x][0].get(\"csd_id\"))\n",
    "    chebi_id_list.append(api_response[x][0].get(\"chebi_id\"))\n",
    "    drugbank_id_list.append(api_response[x][0][\"drugbank\"].get(\"drugbank_id\"))\n",
    "    cofactor_list.append(api_response[x][0][\"functions\"][0].get(\"acts_as\"))\n",
    "    \n",
    "    \n",
    "    \n",
    "        \n",
    "  "
   ]
  },
  {
   "cell_type": "code",
   "execution_count": 243,
   "metadata": {},
   "outputs": [],
   "source": [
    "coompound_mapping_data = pd.DataFrame(list(zip(test_list, chembl_id_list, csd_id_list, chebi_id_list, drugbank_id_list, cofactor_list)), \n",
    "                                      columns = ['het', 'chembl_id', 'csd', 'chebi_id', 'drugbank_id', 'cofactor'])"
   ]
  },
  {
   "cell_type": "code",
   "execution_count": 244,
   "metadata": {},
   "outputs": [
    {
     "data": {
      "text/html": [
       "<div>\n",
       "<style>\n",
       "    .dataframe thead tr:only-child th {\n",
       "        text-align: right;\n",
       "    }\n",
       "\n",
       "    .dataframe thead th {\n",
       "        text-align: left;\n",
       "    }\n",
       "\n",
       "    .dataframe tbody tr th {\n",
       "        vertical-align: top;\n",
       "    }\n",
       "</style>\n",
       "<table border=\"1\" class=\"dataframe\">\n",
       "  <thead>\n",
       "    <tr style=\"text-align: right;\">\n",
       "      <th></th>\n",
       "      <th>het</th>\n",
       "      <th>chembl_id</th>\n",
       "      <th>csd</th>\n",
       "      <th>chebi_id</th>\n",
       "      <th>drugbank_id</th>\n",
       "      <th>cofactor</th>\n",
       "    </tr>\n",
       "  </thead>\n",
       "  <tbody>\n",
       "    <tr>\n",
       "      <th>0</th>\n",
       "      <td>TDP</td>\n",
       "      <td>CHEMBL1236235</td>\n",
       "      <td></td>\n",
       "      <td>45931</td>\n",
       "      <td>DB01987</td>\n",
       "      <td>cofactor</td>\n",
       "    </tr>\n",
       "    <tr>\n",
       "      <th>1</th>\n",
       "      <td>TP7</td>\n",
       "      <td></td>\n",
       "      <td></td>\n",
       "      <td></td>\n",
       "      <td></td>\n",
       "      <td>cofactor</td>\n",
       "    </tr>\n",
       "    <tr>\n",
       "      <th>2</th>\n",
       "      <td>GOL</td>\n",
       "      <td>CHEMBL692</td>\n",
       "      <td>GLCROL01</td>\n",
       "      <td>17754</td>\n",
       "      <td>DB04077</td>\n",
       "      <td>None</td>\n",
       "    </tr>\n",
       "  </tbody>\n",
       "</table>\n",
       "</div>"
      ],
      "text/plain": [
       "   het      chembl_id       csd chebi_id drugbank_id  cofactor\n",
       "0  TDP  CHEMBL1236235              45931     DB01987  cofactor\n",
       "1  TP7                                                cofactor\n",
       "2  GOL      CHEMBL692  GLCROL01    17754     DB04077      None"
      ]
     },
     "execution_count": 244,
     "metadata": {},
     "output_type": "execute_result"
    }
   ],
   "source": [
    "coompound_mapping_data"
   ]
  },
  {
   "cell_type": "code",
   "execution_count": 240,
   "metadata": {},
   "outputs": [],
   "source": [
    "coompound_mapping_data.to_csv('compound_mapping.csv', index=False)"
   ]
  },
  {
   "cell_type": "code",
   "execution_count": null,
   "metadata": {},
   "outputs": [],
   "source": []
  }
 ],
 "metadata": {
  "anaconda-cloud": {},
  "kernelspec": {
   "display_name": "Python (rdkit-env)",
   "language": "python",
   "name": "rdkit-env"
  },
  "language_info": {
   "codemirror_mode": {
    "name": "ipython",
    "version": 3
   },
   "file_extension": ".py",
   "mimetype": "text/x-python",
   "name": "python",
   "nbconvert_exporter": "python",
   "pygments_lexer": "ipython3",
   "version": "3.6.5"
  }
 },
 "nbformat": 4,
 "nbformat_minor": 2
}
